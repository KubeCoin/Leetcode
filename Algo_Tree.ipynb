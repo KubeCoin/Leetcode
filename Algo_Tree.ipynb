{
 "cells": [
  {
   "cell_type": "markdown",
   "metadata": {
    "collapsed": true
   },
   "source": [
    "# TreeNode"
   ]
  },
  {
   "cell_type": "code",
   "execution_count": 3,
   "metadata": {
    "collapsed": true
   },
   "outputs": [],
   "source": [
    "public class TreeNode {\n",
    "  int val;\n",
    "  TreeNode left;\n",
    "  TreeNode right;\n",
    "  TreeNode() {}\n",
    "  TreeNode(int val) { this.val = val; }\n",
    "  TreeNode(int val, TreeNode left, TreeNode right) {\n",
    "      this.val = val;\n",
    "      this.left = left;\n",
    "      this.right = right;\n",
    "  }\n",
    "}"
   ]
  },
  {
   "cell_type": "markdown",
   "metadata": {},
   "source": [
    "### 难题 \n",
    "[095: Unique-Binary-Search-Trees-II](https://leetcode.com/problems/unique-binary-search-trees-ii/)   真的难... 它还是分治    \n",
    "[098: Validate-Binary-Search-Tree](https://leetcode.com/problems/validate-binary-search-tree/) 搜索树直接 InOrder traversal 看看是不是按大小就行了。"
   ]
  },
  {
   "cell_type": "markdown",
   "metadata": {},
   "source": [
    "[108: Convert-Sorted-Array-to-Binary-Search-Tree](https://leetcode.com/problems/convert-sorted-array-to-binary-search-tree/)    用二分法结合"
   ]
  },
  {
   "cell_type": "markdown",
   "metadata": {},
   "source": [
    "# Tree Traversal "
   ]
  },
  {
   "cell_type": "markdown",
   "metadata": {},
   "source": [
    "Tree Traversal 先考虑递归的 DFS 三种，用来命名。   \n",
    "由于递归和Stack的相似性，可以延伸到类似图遍历的DFS和BFS，并且公用一个模板。     \n",
    "再考虑类似 Morris Traversal 的用栈 DFS。 \n",
    "最后是 O(1) Morris Traversal。      "
   ]
  },
  {
   "cell_type": "markdown",
   "metadata": {},
   "source": [
    "## Basic BFS"
   ]
  },
  {
   "cell_type": "code",
   "execution_count": 25,
   "metadata": {},
   "outputs": [],
   "source": [
    "// 以下这种BFS不考虑是否有null,如果有null直接移掉，非常暴力\n",
    "public void BFS(TreeNode root, int k) {\n",
    "    Queue < TreeNode > queue = new LinkedList();\n",
    "    queue.add(root);\n",
    "    while (!queue.isEmpty()) {\n",
    "        if (queue.peek() != null) {\n",
    "            TreeNode node = queue.remove();\n",
    "            queue.add(node.left);\n",
    "            queue.add(node.right);\n",
    "        } else {\n",
    "            queue.remove();\n",
    "        } \n",
    "    }\n",
    "}\n"
   ]
  },
  {
   "cell_type": "markdown",
   "metadata": {},
   "source": [
    "## Basics DFS"
   ]
  },
  {
   "cell_type": "markdown",
   "metadata": {},
   "source": [
    "### Inorder Recursive and Iterative"
   ]
  },
  {
   "cell_type": "markdown",
   "metadata": {},
   "source": [
    "Iterative 核心是什么？通过左边一侧下到底，一路加到stack里面，然后pop出来顶部，然后操作，然后进入它的right节点，这就是逆时针的 inorder。而顺时针的 inorder 只需要把左右调换一下就可以了。为什么自然想到用 stack？ 因为DFS本身可以写递归，而递归的操作本身就是一个天然的stack结构。"
   ]
  },
  {
   "cell_type": "code",
   "execution_count": 3,
   "metadata": {
    "collapsed": true
   },
   "outputs": [],
   "source": [
    "//  逆时针 inorder\n",
    "public List<Integer> inorderTraversal(TreeNode root) {\n",
    "    List<Integer> values = new LinkedList<>();\n",
    "    Stack<TreeNode> stack = new Stack<>();\n",
    "    TreeNode cur = root;\n",
    "    while( cur!= null || !stack.isEmpty() ) {\n",
    "        while(cur!=null) {\n",
    "            stack.push(cur);\n",
    "            cur = cur.left;\n",
    "        }\n",
    "        cur = stack.pop();\n",
    "        // 开始操作\n",
    "        values.add(cur.val);\n",
    "        // 结束操作\n",
    "        cur = cur.right;\n",
    "    }\n",
    "    return values;\n",
    "}\n",
    "\n",
    "//  顺时针 inorder\n",
    "public List<Integer> inorderTraversal(TreeNode root) {\n",
    "    List<Integer> values = new LinkedList<>();\n",
    "    Stack<TreeNode> stack = new Stack<>();\n",
    "    TreeNode cur = root;\n",
    "    while( cur!= null || !stack.isEmpty() ) {\n",
    "        while(cur!=null) {\n",
    "            stack.push(cur);\n",
    "            cur = cur.right;\n",
    "        }\n",
    "        cur = stack.pop();\n",
    "        // 开始操作\n",
    "        values.add(cur.val);\n",
    "        // 结束操作\n",
    "        cur = cur.left;\n",
    "    }\n",
    "    return values;\n",
    "}"
   ]
  },
  {
   "cell_type": "markdown",
   "metadata": {},
   "source": [
    "### PreOrder and PostOrder\n",
    "PreOrder 和 PostOrder 是一样的，这就是套用的一般的树图"
   ]
  },
  {
   "cell_type": "code",
   "execution_count": 5,
   "metadata": {
    "collapsed": true
   },
   "outputs": [],
   "source": [
    "// 逆时针 PreOrder，注意是先进行操作，再让节点入stack, 并且是右侧节点先入stack \n",
    "// 顺时针 PreOrder，则是左侧节点先入stack\n",
    "public List<Integer> preorderTraversal(TreeNode root) {\n",
    "    Stack<TreeNode> stack = new Stack<>();\n",
    "    List<Integer> values = new LinkedList<>();\n",
    "\n",
    "    if(root == null ) {\n",
    "        return values;\n",
    "    }        \n",
    "    stack.push(root);\n",
    "    while(!stack.isEmpty()) {\n",
    "        TreeNode cur = stack.pop();\n",
    "        values.add(cur.val);\n",
    "        if( cur.right != null ) {\n",
    "            stack.push(cur.right);\n",
    "        }\n",
    "\n",
    "        if( cur.left != null ) {\n",
    "            stack.push(cur.left);\n",
    "        }\n",
    "    }\n",
    "    return values;\n",
    "}\n",
    "// PostOrder只需要将PreOrder的结果逆序。\n",
    "// 顺时针 PostOrder 的结果是 逆时针 PreOrder 逆序，逆序我们用 LinkedList.addFirst();"
   ]
  },
  {
   "cell_type": "markdown",
   "metadata": {},
   "source": [
    "实际操作中，我觉得下面的写法更好，     \n",
    "因为首先和 inOrder 变化不大。     \n",
    "其次，上面的写法中，必须要防止root是null.     \n",
    "最后这种写法很适合理解 Morris Traversal.    \n",
    "当然了，上面的写法一改就是BFS了。"
   ]
  },
  {
   "cell_type": "code",
   "execution_count": 19,
   "metadata": {
    "collapsed": true
   },
   "outputs": [],
   "source": [
    "public class Solution {\n",
    "    public List<Integer> preAndInOrderTraversal(TreeNode root) {\n",
    "        Stack<TreeNode> stack = new Stack<>();\n",
    "        List<Integer> preOrder = new ArrayList<>();\n",
    "        List<Integer> inOrder  = new ArrayList<>();\n",
    "        TreeNode cur = root;\n",
    "        while(!stack.isEmpty() || cur != null){\n",
    "            while(cur != null){\n",
    "            \n",
    "                preOrder.add(cur.val); // preOrder;\n",
    "                \n",
    "                stack.push(cur);\n",
    "                \n",
    "                cur = cur.left;\n",
    "            }\n",
    "            cur = stack.pop();\n",
    "            \n",
    "            inOrder.add(cur.val);   // inOrder\n",
    "            \n",
    "            cur = cur.right;\n",
    "        }\n",
    "        return inOrder;\n",
    "    }\n",
    "}"
   ]
  },
  {
   "cell_type": "markdown",
   "metadata": {},
   "source": [
    "## BFS"
   ]
  },
  {
   "cell_type": "code",
   "execution_count": 24,
   "metadata": {
    "collapsed": true
   },
   "outputs": [],
   "source": [
    "public List<List<Integer>> levelOrder(TreeNode root) {\n",
    "    List<List<Integer>> ans = new ArrayList<>();\n",
    "    Queue<TreeNode> queue = new LinkedList<>();\n",
    "    if(root == null){\n",
    "        return ans;\n",
    "    }\n",
    "    queue.offer(root);\n",
    "    while(!queue.isEmpty()){\n",
    "        int size = queue.size();\n",
    "        List<Integer> levelOrder = new ArrayList<>();\n",
    "        while(size > 0 ) {\n",
    "            TreeNode cur = queue.poll();\n",
    "\n",
    "            levelOrder.add(cur.val);\n",
    "\n",
    "            if(cur.left != null) {\n",
    "                queue.offer(cur.left);\n",
    "            }\n",
    "            if(cur.right != null) {\n",
    "                queue.offer(cur.right);\n",
    "            }\n",
    "            size--;\n",
    "        }\n",
    "        ans.add(levelOrder);\n",
    "    }\n",
    "    return ans;\n",
    "}\n"
   ]
  },
  {
   "cell_type": "markdown",
   "metadata": {},
   "source": [
    "### Morris Traversal\n",
    "需要两个指针，一个 cur = root, 一个 prev = null;"
   ]
  },
  {
   "cell_type": "code",
   "execution_count": 20,
   "metadata": {
    "collapsed": true
   },
   "outputs": [],
   "source": [
    "  public List<Integer> preorderTraversal(TreeNode root) {\n",
    "    LinkedList<Integer> output = new LinkedList<>();\n",
    "\n",
    "    TreeNode cur = root;\n",
    "    TreeNode prev = null;\n",
    "      \n",
    "    // Morris 的 cur 实际上还是和DFS一样，这是一个逆时针的走法。\n",
    "    // Morris 考虑 InOrder 一个节点 node 应当排在它的所有左子树节点之后，而它的前一位就是它的左子树的极右节点。\n",
    "    // 因此我们将该极右节点的右侧指向cur,这样就能做到在遍历完左子树之后从 node 的右侧继续遍历。\n",
    "    // 按照逆时针遍历的话，\n",
    "    // cur 走的路线始终是沿着最左侧下到底，然后回退到 InOrder 的下一位，再次沿最左侧下到底。\n",
    "      \n",
    "    // 虽然是InOrder的思路，但是如何记录遍历，还是由我们说了算的。\n",
    "    // preOrder 就是只要遇到 cur 没访问过的元素，就立刻加进来。\n",
    "    // inOrder 是记录 cur 首次访问的最左侧的元素，然后记录 cur 撤退回下一个InOrder节点路上的元素。\n",
    "\n",
    "    while (cur != null) {\n",
    "    // 逆时针遍历就是不停的下到极左，。\n",
    "    // 如果当前节点存在左子树，那么我们处理左子树，否则说明当前节点是一个极左节点。\n",
    "      if (cur.left == null) {\n",
    "         // cur.left == null, 不存在左子树，此时cur必然是极左节点\n",
    "        // 这里的元素都是首次访问的极左元素。而 inOrder 记录的首先是它，preOrder记录所有首次访问的元素。\n",
    "        // 所以我们不论是 inOrder 还是 preOrder 都要记录它的值。\n",
    "        output.add(cur.val);\n",
    "        // 如果它右侧是空的，说明它也是某个极右节点，一定已经被指向了那个InOrder的下一位。\n",
    "        // 如果它右侧不空，那么我们就进入它。\n",
    "        // 所以我们可以放心的指向它的右边。\n",
    "        cur = cur.right;\n",
    "      } else {\n",
    "        // 首先cur存在左子树，那么我们用 prev 取当前节点的左子树\n",
    "        // 然后寻找它左子树的极右节点。即使这个子树是被访问过的，\n",
    "        // (prev.right != cur) 保证了让 prev 停留在左子树的最右节点。\n",
    "        // 即不论该左侧子树有木有被访问过，如下代码都能让 prev 停留在 cur 的左子树的极右，即InOrder序的前一位。\n",
    "        // 因此叫 prev.\n",
    "        prev = cur.left;\n",
    "        while ( (prev.right != null) && (prev.right != cur) ) {\n",
    "          prev = prev.right;\n",
    "        }\n",
    "        \n",
    "        //如果cur未曾访问过如今的 prev, 那么 prev 右侧一定指向如今的 cur.\n",
    "        // 反之我们就让他指向如今的 cur.\n",
    "        if(prev.right == null ) {\n",
    "            // 对于未被访问过的左子树，即 prev.right == null; 让它指向cur。\n",
    "             prev.right = cur;\n",
    "            // prev == null 说明 cur 未曾访问过该左子树，如果需要 preOrder，就应当记录了。\n",
    "            // output.add(cur.val);\n",
    "            // cur 进入左子树\n",
    "            cur = cur.left;\n",
    "        }else {\n",
    "            // 对于已经被访问过的左子树，cur不需要进入了，那么把prev的指针拿掉。\n",
    "            prev.right = null;\n",
    "            // cur 的左子树都被访问过了，那么进入右子树。\n",
    "            // 这里是cur退出访问已经访问过的左子树，如果需要 inOrder，就应当记录了。\n",
    "            // output.add(cur.val);\n",
    "            cur = cur.right;\n",
    "        }\n",
    "      }\n",
    "    }\n",
    "    return output;\n",
    "  }"
   ]
  },
  {
   "cell_type": "code",
   "execution_count": 21,
   "metadata": {
    "collapsed": true
   },
   "outputs": [],
   "source": [
    "  public List<Integer> MorrisPreAndInOrderTraversal(TreeNode root) {\n",
    "    LinkedList<Integer> preOrder = new LinkedList<>();\n",
    "    LinkedList<Integer> inOrder = new LinkedList<>();\n",
    "      \n",
    "    TreeNode cur = root;\n",
    "    TreeNode prev = null;\n",
    "\n",
    "    while (cur != null) {\n",
    "\n",
    "      if (cur.left == null) {\n",
    "          \n",
    "        preOrder.add(cur.val);  // For all\n",
    "        inOrder.add(cur.val);  // For all\n",
    "          \n",
    "        cur = cur.right;\n",
    "\n",
    "      } else {\n",
    "\n",
    "        prev = cur.left;\n",
    "        while ( (prev.right != null) && (prev.right != cur) ) {\n",
    "          prev = prev.right;\n",
    "        }\n",
    "\n",
    "        if(prev.right == null ) {\n",
    "\n",
    "            prev.right = cur;\n",
    "\n",
    "            preOrder.add(cur.val); // preOrder\n",
    "\n",
    "            cur = cur.left;\n",
    "        }else {\n",
    "\n",
    "            prev.right = null;\n",
    "\n",
    "            inOrder.add(cur.val); // inOrder\n",
    "            \n",
    "            cur = cur.right;\n",
    "        }\n",
    "      }\n",
    "    }\n",
    "//     return preOrder;\n",
    "      return inOrder;\n",
    "  }\n",
    "\n",
    "\n",
    "\n"
   ]
  },
  {
   "cell_type": "code",
   "execution_count": null,
   "metadata": {
    "collapsed": true
   },
   "outputs": [],
   "source": []
  }
 ],
 "metadata": {
  "kernelspec": {
   "display_name": "Java",
   "language": "java",
   "name": "java"
  },
  "language_info": {
   "codemirror_mode": "java",
   "file_extension": ".jshell",
   "mimetype": "text/x-java-source",
   "name": "Java",
   "pygments_lexer": "java",
   "version": "12.0.1+12"
  }
 },
 "nbformat": 4,
 "nbformat_minor": 2
}
