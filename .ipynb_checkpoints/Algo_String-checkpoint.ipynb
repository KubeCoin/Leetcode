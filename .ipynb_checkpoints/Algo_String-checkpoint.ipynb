{
 "cells": [
  {
   "cell_type": "markdown",
   "metadata": {
    "collapsed": true
   },
   "source": [
    "# 5.1 字符串排序\n",
    "利用字符串的特殊性质将字符串排序，它们将比通用的排序方法效率更高。"
   ]
  },
  {
   "cell_type": "markdown",
   "metadata": {},
   "source": [
    "#### 第一类方法\n",
    "从右到左：低位优先 Least-Significant-Digit First (LSD)\n",
    "最适用于键到长度都相同的字符串排序。\n",
    "#### 第二类方法\n",
    "从左到右：高位优先 Most-Significant-Digit First (MSD)\n",
    "优势在于，不一定需要检查所有的输入就能完成排序。"
   ]
  },
  {
   "cell_type": "markdown",
   "metadata": {
    "collapsed": true
   },
   "source": [
    "## 5.1.1 Key-Indexed Counting 键索引计数法"
   ]
  },
  {
   "cell_type": "code",
   "execution_count": null,
   "metadata": {
    "collapsed": true
   },
   "outputs": [],
   "source": []
  }
 ],
 "metadata": {
  "kernelspec": {
   "display_name": "Java",
   "language": "java",
   "name": "java"
  },
  "language_info": {
   "codemirror_mode": "java",
   "file_extension": ".jshell",
   "mimetype": "text/x-java-source",
   "name": "Java",
   "pygments_lexer": "java",
   "version": "12.0.1+12"
  }
 },
 "nbformat": 4,
 "nbformat_minor": 2
}
