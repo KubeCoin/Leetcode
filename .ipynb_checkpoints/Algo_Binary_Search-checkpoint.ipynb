{
 "cells": [
  {
   "cell_type": "markdown",
   "metadata": {
    "collapsed": true
   },
   "source": [
    "## 二分查找"
   ]
  },
  {
   "cell_type": "markdown",
   "metadata": {},
   "source": [
    "首先，有序数组，没有重复的。如果找到的画，p的位置是对的位置，如果找不到，那么r或者l - 1的位置是应该存在的位置。"
   ]
  },
  {
   "cell_type": "code",
   "execution_count": 101,
   "metadata": {
    "collapsed": true
   },
   "outputs": [],
   "source": [
    "int[] noDuplicateFindExact1 = new int[]{0,1,2,3,4,5,322,444};"
   ]
  },
  {
   "cell_type": "code",
   "execution_count": 102,
   "metadata": {},
   "outputs": [
    {
     "name": "stdout",
     "output_type": "stream",
     "text": [
      "[null] [0] [1] [2] [3] [4] [5] [322] [444] [null] \n",
      "^      ^^                                         \n",
      "r      lp                                         \n",
      "[null] [0] [1] [2] [3] [4] [5] [322] [444] [null] \n",
      "       ^^^                                        \n",
      "       lrp                                        \n",
      "[null] [0] [1] [2] [3] [4] [5] [322] [444] [null] \n",
      "       ^   ^   ^                                  \n",
      "       l   p   r                                  \n",
      "[null] [0] [1] [2] [3] [4] [5] [322] [444] [null] \n",
      "                               ^     ^^           \n",
      "                               r     lp           \n",
      "[null] [0] [1] [2] [3] [4] [5] [322] [444] [null] \n",
      "                                     ^^^          \n",
      "                                     lrp          \n",
      "[null] [0] [1] [2] [3] [4] [5] [322] [444] [null] \n",
      "                                     ^^    ^      \n",
      "                                     rp    l      \n"
     ]
    }
   ],
   "source": [
    "binaryExactOne(noDuplicateFindExact1, -1);\n",
    "binaryExactOne(noDuplicateFindExact1, 0);\n",
    "binaryExactOne(noDuplicateFindExact1, 1);\n",
    "binaryExactOne(noDuplicateFindExact1, 443);\n",
    "binaryExactOne(noDuplicateFindExact1, 444);\n",
    "binaryExactOne(noDuplicateFindExact1, 445);"
   ]
  },
  {
   "cell_type": "code",
   "execution_count": 78,
   "metadata": {},
   "outputs": [],
   "source": [
    "public void binaryExactOne(int[] nums, int target) {\n",
    "    if(nums.length < 1) return;\n",
    "    int left = 0;\n",
    "    int right = nums.length - 1;\n",
    "    int pivot = 0;\n",
    "    while(left <= right) {\n",
    "        pivot = left + (right - left)/2;\n",
    "        int num = nums[pivot];\n",
    "        if(num < target) {\n",
    "            left = pivot + 1;\n",
    "        }else if( num > target) {\n",
    "            right = pivot - 1;\n",
    "        }else{\n",
    "            break;\n",
    "        }\n",
    "    }\n",
    "    printBinary(nums, left, right ,pivot);\n",
    "}"
   ]
  },
  {
   "cell_type": "markdown",
   "metadata": {},
   "source": [
    "其次，有序数组允许有重复的，"
   ]
  },
  {
   "cell_type": "code",
   "execution_count": 119,
   "metadata": {
    "collapsed": true
   },
   "outputs": [],
   "source": [
    "int[] duplicateFind = new int[]{0,1,2,2,2,2,2,4,5,777,888};\n",
    "int[] whatToFind"
   ]
  },
  {
   "cell_type": "code",
   "execution_count": 121,
   "metadata": {},
   "outputs": [
    {
     "name": "stdout",
     "output_type": "stream",
     "text": [
      "[null] [0] [1] [2] [2] [2] [2] [2] [4] [5] [777] [888] [null] \n",
      "           ^   ^^                                             \n",
      "           p   lr                                             \n",
      "[null] [0] [1] [2] [2] [2] [2] [2] [4] [5] [777] [888] [null] \n",
      "       ^   ^^                                                 \n",
      "       p   lr                                                 \n",
      "[null] [0] [1] [2] [2] [2] [2] [2] [4] [5] [777] [888] [null] \n",
      "       ^^^                                                    \n",
      "       lrp                                                    \n",
      "[null] [0] [1] [2] [2] [2] [2] [2] [4] [5] [777] [888] [null] \n",
      "       ^^^                                                    \n",
      "       lrp                                                    \n",
      "[null] [0] [1] [2] [2] [2] [2] [2] [4] [5] [777] [888] [null] \n",
      "       ^^^                                                    \n",
      "       lrp                                                    \n",
      "[null] [0] [1] [2] [2] [2] [2] [2] [4] [5] [777] [888] [null] \n",
      "                               ^   ^^                         \n",
      "                               p   lr                         \n",
      "[null] [0] [1] [2] [2] [2] [2] [2] [4] [5] [777] [888] [null] \n",
      "                                   ^   ^^                     \n",
      "                                   p   lr                     \n",
      "[null] [0] [1] [2] [2] [2] [2] [2] [4] [5] [777] [888] [null] \n",
      "                                           ^^^                \n",
      "                                           lrp                \n",
      "[null] [0] [1] [2] [2] [2] [2] [2] [4] [5] [777] [888] [null] \n",
      "                                           ^^^                \n",
      "                                           lrp                \n",
      "[null] [0] [1] [2] [2] [2] [2] [2] [4] [5] [777] [888] [null] \n",
      "                                           ^     ^^           \n",
      "                                           p     lr           \n",
      "[null] [0] [1] [2] [2] [2] [2] [2] [4] [5] [777] [888] [null] \n",
      "                                           ^     ^^           \n",
      "                                           p     lr           \n"
     ]
    }
   ],
   "source": [
    "binaryHasDuplicateLeft(duplicateFind, 2);\n",
    "binaryHasDuplicateLeft(duplicateFind, 1);\n",
    "binaryHasDuplicateLeft(duplicateFind, 0);\n",
    "binaryHasDuplicateLeft(duplicateFind, -1);\n",
    "binaryHasDuplicateLeft(duplicateFind, -10);\n",
    "binaryHasDuplicateLeft(duplicateFind, 3);\n",
    "binaryHasDuplicateLeft(duplicateFind, 5);\n",
    "binaryHasDuplicateLeft(duplicateFind, 776);\n",
    "binaryHasDuplicateLeft(duplicateFind, 777);\n",
    "binaryHasDuplicateLeft(duplicateFind, 778);\n",
    "binaryHasDuplicateLeft(duplicateFind, 9999);"
   ]
  },
  {
   "cell_type": "code",
   "execution_count": 105,
   "metadata": {
    "collapsed": true
   },
   "outputs": [],
   "source": [
    "public void binaryHasDuplicateLeft(int[] nums, int target) {\n",
    "    if(nums.length < 1) return;\n",
    "  //  int left = 0;\n",
    " //   int right = nums.length - 1;\n",
    "    int left = 0;\n",
    "    int right = nums.length - 1;\n",
    "    int pivot = 0;\n",
    "    while(left < right) {\n",
    "        pivot = left + (right - left)/2;\n",
    "        int num = nums[pivot];\n",
    "        if(num < target) {\n",
    "            left = pivot + 1;\n",
    "        }else {\n",
    "            right = pivot;\n",
    "        }\n",
    "    }\n",
    "    printBinary(nums, left, right ,pivot);\n",
    "}\n",
    "\n",
    "public void binaryHasDuplicateRight(int[] nums, int target) {\n",
    "    if(nums.length < 1) return;\n",
    "    int left = 0;\n",
    "    int right = nums.length - 1;\n",
    "    int pivot = 0;\n",
    "    while(left < right) {\n",
    "        pivot = left + (right - left)/2;\n",
    "        int num = nums[pivot];\n",
    "        if(num < target) {\n",
    "            left = pivot + 1;\n",
    "        }else {\n",
    "            right = pivot;\n",
    "            break;\n",
    "        }\n",
    "    }\n",
    "    printBinary(nums, left, right ,pivot);\n",
    "}"
   ]
  },
  {
   "cell_type": "code",
   "execution_count": 79,
   "metadata": {},
   "outputs": [],
   "source": [
    "public void printBinary(int[] nums, int left, int right, int pivot) {\n",
    "    String upArrow = \"^\";\n",
    "    StringBuilder arrayLine = new StringBuilder();\n",
    "    StringBuilder pointerLine = new StringBuilder();\n",
    "    StringBuilder labelLine = new StringBuilder();\n",
    "    \n",
    "    for(int i = -1; i <= nums.length; i++){\n",
    "        \n",
    "        String number = (i == - 1 || i == nums.length) ? \"null\":String.valueOf(nums[i]);\n",
    "        arrayLine.append(\"[\" + number + \"] \");\n",
    "        \n",
    "        StringBuilder curPointer = new StringBuilder();\n",
    "        StringBuilder curLabel = new StringBuilder();\n",
    "        \n",
    "        if( i == left || i == right || i == pivot) {\n",
    "            if( i == left) {\n",
    "                curPointer.append(upArrow);\n",
    "                curLabel.append(\"l\");\n",
    "            }\n",
    "            if( i == right) {\n",
    "                curPointer.append(upArrow);\n",
    "                curLabel.append(\"r\");\n",
    "            }\n",
    "            if( i == pivot ) {\n",
    "                curPointer.append(upArrow);\n",
    "                curLabel.append(\"p\");\n",
    "            }\n",
    "        }\n",
    "        \n",
    "        int curSize = curPointer.length();\n",
    "        for(int j = 0; j < number.length() + 3 - curSize; j++) {\n",
    "             curPointer.append(\" \");\n",
    "             curLabel.append(\" \");\n",
    "        }\n",
    "        pointerLine.append(curPointer.toString());\n",
    "        labelLine.append(curLabel.toString());\n",
    "        \n",
    "    }\n",
    "    System.out.println(arrayLine.toString());\n",
    "    System.out.println(pointerLine.toString());\n",
    "    System.out.println(labelLine.toString());\n",
    "}"
   ]
  },
  {
   "cell_type": "code",
   "execution_count": 80,
   "metadata": {},
   "outputs": [
    {
     "name": "stdout",
     "output_type": "stream",
     "text": [
      "[null] [0] [1] [2] [2] [2] [4] [5] [322] [444] [null] \n",
      "       ^^^                                            \n",
      "       lrp                                            \n"
     ]
    }
   ],
   "source": [
    " printBinary(firstTemp, 0, 0, 0);"
   ]
  },
  {
   "cell_type": "code",
   "execution_count": null,
   "metadata": {
    "collapsed": true
   },
   "outputs": [],
   "source": []
  }
 ],
 "metadata": {
  "kernelspec": {
   "display_name": "Java",
   "language": "java",
   "name": "java"
  },
  "language_info": {
   "codemirror_mode": "java",
   "file_extension": ".jshell",
   "mimetype": "text/x-java-source",
   "name": "Java",
   "pygments_lexer": "java",
   "version": "12.0.1+12"
  }
 },
 "nbformat": 4,
 "nbformat_minor": 2
}
