{
 "cells": [
  {
   "cell_type": "markdown",
   "metadata": {
    "collapsed": true
   },
   "source": [
    "## 处理复杂字符串的\n",
    "[224: Basic-Calculator](https://leetcode.com/problems/basic-calculator/)"
   ]
  },
  {
   "cell_type": "markdown",
   "metadata": {},
   "source": [
    "## Stack 相关\n",
    "[735: Asteroid-Collision](https://leetcode.com/problems/asteroid-collision/)    "
   ]
  },
  {
   "cell_type": "markdown",
   "metadata": {},
   "source": [
    "## 处理运算进位的\n",
    "[043: Multiply-Strings](https://leetcode.com/problems/multiply-strings/)    \n",
    "[002: Add-Two-Numbers](https://leetcode.com/problems/add-two-numbers/)     "
   ]
  },
  {
   "cell_type": "markdown",
   "metadata": {},
   "source": [
    "## 左右括号相关\n",
    "[1249: Minimum-Remove-to-Make-Valid-Parentheses](https://leetcode.com/problems/minimum-remove-to-make-valid-parentheses/)"
   ]
  },
  {
   "cell_type": "markdown",
   "metadata": {},
   "source": [
    "## 动态规划 Fibonacci Like\n",
    "[509: Fibonacci-Number](https://leetcode.com/problems/fibonacci-number/)     \n",
    "[070: Climbing-Stairs](https://leetcode.com/problems/climbing-stairs/)   \n",
    "[062: Unique-Paths](https://leetcode.com/problems/unique-paths/)  \n",
    "[063: Unique-Paths-II](https://leetcode.com/problems/unique-paths-ii/)   \n",
    "[091: Decode-Ways](https://leetcode.com/problems/decode-ways/)"
   ]
  },
  {
   "cell_type": "markdown",
   "metadata": {},
   "source": [
    "## 左右扫数组相关 2-3 pass "
   ]
  },
  {
   "cell_type": "markdown",
   "metadata": {},
   "source": [
    "## Two-sum 家族\n",
    "[001: Two-Sum](https://leetcode.com/problems/two-sum/)   \n",
    "    Two Sum 最优不能Sort, HashMap 一遍过       \n",
    "[167: Two-Sum-II---Input-array-is-sorted](https://leetcode.com/problems/two-sum-ii-input-array-is-sorted/)    \n",
    "[015: 3Sum](https://leetcode.com/problems/3sum/)   \n",
    "    3 Sum 和 4 Sum 最优要Sort，为了避免重复的组合，连续重复的数字要取第一个，后面重复的是可以出现在组合中的。\n",
    "[259: 3Sum-Smaller](https://leetcode.com/problems/3sum-smaller/)   \n",
    "[016: 3Sum-Closest](https://leetcode.com/problems/3sum-closest/)  \n",
    "[018: 4Sum](https://leetcode.com/problems/4sum/)            \n",
    "[653: Two-Sum-IV---Input-is-a-BST](https://leetcode.com/problems/two-sum-iv-input-is-a-bst/)     \n",
    "[170: Two-Sum-III---Data-structure-design](https://leetcode.com/problems/two-sum-iii-data-structure-design/)\n",
    "  "
   ]
  },
  {
   "cell_type": "markdown",
   "metadata": {
    "collapsed": true
   },
   "source": [
    "# Graph 图相关"
   ]
  },
  {
   "cell_type": "markdown",
   "metadata": {},
   "source": [
    "## DFS, BFS"
   ]
  },
  {
   "cell_type": "markdown",
   "metadata": {},
   "source": []
  },
  {
   "cell_type": "code",
   "execution_count": null,
   "metadata": {
    "collapsed": true
   },
   "outputs": [],
   "source": []
  }
 ],
 "metadata": {
  "kernelspec": {
   "display_name": "Java",
   "language": "java",
   "name": "java"
  },
  "language_info": {
   "codemirror_mode": "java",
   "file_extension": ".jshell",
   "mimetype": "text/x-java-source",
   "name": "Java",
   "pygments_lexer": "java",
   "version": "12.0.1+12"
  }
 },
 "nbformat": 4,
 "nbformat_minor": 2
}
